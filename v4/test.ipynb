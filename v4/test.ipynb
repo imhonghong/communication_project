{
 "cells": [
  {
   "cell_type": "code",
   "execution_count": null,
   "metadata": {},
   "outputs": [],
   "source": [
    "import numpy as np\n",
    "import matplotlib.pyplot as plt\n",
    "import os\n",
    "import torch\n",
    "import torch.nn as nn\n",
    "import torch.optim as optim\n",
    "import torch.nn.functional as F\n",
    "from torch.utils.data import DataLoader, Dataset\n",
    "\n",
    "os.chdir(r\"C:\\project\\v4\")\n",
    "import UnetModel\n",
    "import UnetDataset"
   ]
  },
  {
   "cell_type": "code",
   "execution_count": null,
   "metadata": {},
   "outputs": [],
   "source": [
    "# Load the model\n",
    "device = torch.device(\"cuda\" if torch.cuda.is_available() else \"cpu\")\n",
    "\n",
    "weight_path = r\"C:\\project\\v4\\UnetModel_0020.pth\"\n",
    "model = UnetModel.UNetIso().to(device)\n",
    "model.load_state_dict(torch.load(weight_path))\n",
    "model.eval()\n"
   ]
  },
  {
   "cell_type": "code",
   "execution_count": null,
   "metadata": {},
   "outputs": [],
   "source": [
    "from matplotlib import pyplot as plt\n",
    "x1 = np.load(r\"C:\\project\\data\\ATN_v4_val\\ATN_01_006_R1.npy\")\n",
    "x2 = np.load(r\"C:\\project\\data\\BDM_v4_val\\BDM_01_006_R1.npy\")\n",
    "input_image = np.stack([x1, x2], axis=-1)\n",
    "input_image = torch.from_numpy(input_image).permute(2, 0, 1).unsqueeze(0).to(device)\n",
    "with torch.no_grad():\n",
    "    output_image = model(input_image)\n",
    "output_image = output_image.squeeze().cpu().numpy()\n",
    "\n"
   ]
  },
  {
   "cell_type": "code",
   "execution_count": null,
   "metadata": {},
   "outputs": [],
   "source": [
    "# show output image as heatmap\n",
    "plt.figure(figsize=(20,20))\n",
    "plt.subplot()\n",
    "plt.imshow(output_image, cmap='hot')\n",
    "plt.title('Predicted Piso')\n",
    "plt.colorbar()\n",
    "print(output_image)"
   ]
  },
  {
   "cell_type": "code",
   "execution_count": null,
   "metadata": {},
   "outputs": [],
   "source": [
    "gold_image = np.load(r\"C:\\project\\data\\PGM_v4_val\\PGM_01_006_R1.npy\").astype(np.float32)\n",
    "\n",
    "plt.figure(figsize=(20,20))\n",
    "plt.subplot()\n",
    "plt.imshow(gold_image, cmap='hot')\n",
    "plt.title('Gold Piso')\n",
    "plt.colorbar()\n",
    "print(gold_image)"
   ]
  },
  {
   "cell_type": "code",
   "execution_count": null,
   "metadata": {},
   "outputs": [],
   "source": [
    "diff = output_image - gold_image\n",
    "plt.figure(figsize=(20,20))\n",
    "plt.subplot()\n",
    "plt.imshow(diff, cmap='hot')\n",
    "plt.title('Predict-GT')\n",
    "plt.colorbar()\n",
    "print(diff)\n"
   ]
  }
 ],
 "metadata": {
  "language_info": {
   "name": "python"
  }
 },
 "nbformat": 4,
 "nbformat_minor": 2
}
