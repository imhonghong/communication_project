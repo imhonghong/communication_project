{
 "cells": [
  {
   "cell_type": "code",
   "execution_count": 32,
   "metadata": {},
   "outputs": [],
   "source": [
    "import os\n",
    "import scipy.io as sio\n",
    "import numpy as np"
   ]
  },
  {
   "cell_type": "code",
   "execution_count": 33,
   "metadata": {},
   "outputs": [
    {
     "name": "stdout",
     "output_type": "stream",
     "text": [
      "(297, 7)\n",
      "7\n"
     ]
    }
   ],
   "source": [
    "data = np.load('/home/ub2204/桌面/g2c/SISO_simulate_v2/data/data0.npy')\n",
    "\n",
    "print(data.shape)\n",
    "print(len(data[0]))\n"
   ]
  },
  {
   "cell_type": "code",
   "execution_count": 34,
   "metadata": {},
   "outputs": [],
   "source": [
    "data1 = np.transpose(data)"
   ]
  },
  {
   "cell_type": "code",
   "execution_count": 35,
   "metadata": {},
   "outputs": [],
   "source": [
    "data_dict = {\n",
    "            'path_gain': data1[0].reshape(-1, 1),\n",
    "            'path_phase': data1[1].reshape(-1, 1),\n",
    "            'path_delay': data1[2].reshape(-1, 1),\n",
    "            'path_AOA_hor':data1[3].reshape(-1, 1),\n",
    "            'path_AOA_ver': data1[4].reshape(-1, 1),\n",
    "            'path_AOD_hor': data1[5].reshape(-1, 1),\n",
    "            'path_AOD_ver': data1[6].reshape(-1, 1),\n",
    "            }\n",
    "\n",
    "mat_struct = {'sim': data_dict}\n",
    "    \n",
    "sio.savemat(f'data_mat/test.mat', mat_struct)"
   ]
  }
 ],
 "metadata": {
  "kernelspec": {
   "display_name": "Python 3",
   "language": "python",
   "name": "python3"
  },
  "language_info": {
   "codemirror_mode": {
    "name": "ipython",
    "version": 3
   },
   "file_extension": ".py",
   "mimetype": "text/x-python",
   "name": "python",
   "nbconvert_exporter": "python",
   "pygments_lexer": "ipython3",
   "version": "3.10.12"
  }
 },
 "nbformat": 4,
 "nbformat_minor": 2
}
